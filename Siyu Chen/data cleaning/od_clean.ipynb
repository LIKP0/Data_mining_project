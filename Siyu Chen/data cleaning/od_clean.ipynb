{
 "metadata": {
  "language_info": {
   "codemirror_mode": {
    "name": "ipython",
    "version": 3
   },
   "file_extension": ".py",
   "mimetype": "text/x-python",
   "name": "python",
   "nbconvert_exporter": "python",
   "pygments_lexer": "ipython3",
   "version": "3.6.12"
  },
  "orig_nbformat": 2,
  "kernelspec": {
   "name": "python3612jvsc74a57bd0281325b046cf7b4fa435ee1268a56f7fad41fd38df347ee06af793bf124a9a9d",
   "display_name": "Python 3.6.12 64-bit ('datamine': conda)"
  }
 },
 "nbformat": 4,
 "nbformat_minor": 2,
 "cells": [
  {
   "cell_type": "code",
   "execution_count": 1,
   "metadata": {},
   "outputs": [],
   "source": [
    "import matplotlib.pyplot as plt\n",
    "import pandas as pd\n",
    "import numpy as np\n",
    "from shapely import geometry\n",
    "import geopandas\n",
    "from shapely.geometry import Point, Polygon"
   ]
  },
  {
   "cell_type": "code",
   "execution_count": 2,
   "metadata": {},
   "outputs": [],
   "source": [
    "# read shenzhen boundary\n",
    "boundary = geopandas.read_file('../material/440300.json')\n",
    "boundary_exploded = boundary.explode()"
   ]
  },
  {
   "cell_type": "code",
   "execution_count": 3,
   "metadata": {},
   "outputs": [],
   "source": [
    "# filter data\n",
    "df = pd.read_csv('../material/od.csv')"
   ]
  },
  {
   "cell_type": "code",
   "execution_count": 17,
   "metadata": {},
   "outputs": [],
   "source": [
    "# def valid longtitude,latitude method\n",
    "def isValidPos(lon,lat):\n",
    "    p = Point(lon,lat)\n",
    "    for i in range(5):\n",
    "        if(p.within(boundary_exploded['geometry'][0][i])):\n",
    "            return True\n",
    "    return False"
   ]
  },
  {
   "cell_type": "code",
   "execution_count": 20,
   "metadata": {},
   "outputs": [],
   "source": [
    "df['isValid'] = df.apply(lambda x:isValidPos(x.origin_lon,x.origin_lat) & isValidPos(x.destination_lon,x.destination_lat),axis=1)"
   ]
  },
  {
   "cell_type": "code",
   "execution_count": 21,
   "metadata": {},
   "outputs": [
    {
     "output_type": "execute_result",
     "data": {
      "text/plain": [
       "True     109899\n",
       "False      1103\n",
       "Name: isValid, dtype: int64"
      ]
     },
     "metadata": {},
     "execution_count": 21
    }
   ],
   "source": [
    "df['isValid'].value_counts()"
   ]
  },
  {
   "cell_type": "code",
   "execution_count": 22,
   "metadata": {},
   "outputs": [],
   "source": [
    "df = df.drop(df[~df['isValid']].index)"
   ]
  },
  {
   "cell_type": "code",
   "execution_count": 25,
   "metadata": {},
   "outputs": [],
   "source": [
    "# save to csv file\n",
    "df = df.iloc[:,:-1]\n",
    "df.to_csv('../material/od.csv')"
   ]
  }
 ]
}