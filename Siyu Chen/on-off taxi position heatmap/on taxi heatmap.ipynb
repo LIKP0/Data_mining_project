{
 "metadata": {
  "language_info": {
   "codemirror_mode": {
    "name": "ipython",
    "version": 3
   },
   "file_extension": ".py",
   "mimetype": "text/x-python",
   "name": "python",
   "nbconvert_exporter": "python",
   "pygments_lexer": "ipython3",
   "version": "3.6.12"
  },
  "orig_nbformat": 2,
  "kernelspec": {
   "name": "python3612jvsc74a57bd0281325b046cf7b4fa435ee1268a56f7fad41fd38df347ee06af793bf124a9a9d",
   "display_name": "Python 3.6.12 64-bit ('datamine': conda)"
  }
 },
 "nbformat": 4,
 "nbformat_minor": 2,
 "cells": [
  {
   "cell_type": "code",
   "execution_count": 2,
   "metadata": {},
   "outputs": [],
   "source": [
    "import pandas as pd\n",
    "import json"
   ]
  },
  {
   "cell_type": "code",
   "execution_count": 3,
   "metadata": {},
   "outputs": [],
   "source": [
    "data = pd.read_csv('../material/od.csv')"
   ]
  },
  {
   "cell_type": "code",
   "execution_count": 6,
   "metadata": {},
   "outputs": [],
   "source": [
    "# convert on and off data to json\n",
    "on_data = dict()\n",
    "off_data = dict()\n",
    "count = 1\n",
    "for tup in zip(data['origin_lon'],data['origin_lat']):\n",
    "    on_data[count] = list(tup)\n",
    "    count +=1\n",
    "count = 1\n",
    "for tup in zip(data['destination_lon'],data['destination_lat']):\n",
    "    off_data[count] = list(tup)\n",
    "    count +=1\n",
    "with open('on_taxi.json','w') as f:\n",
    "    json.dump(on_data,f)\n",
    "    f.close()\n",
    "with open('off_taxi.json','w') as f:\n",
    "    json.dump(off_data,f)\n",
    "    f.close()"
   ]
  },
  {
   "cell_type": "code",
   "execution_count": null,
   "metadata": {},
   "outputs": [],
   "source": []
  }
 ]
}