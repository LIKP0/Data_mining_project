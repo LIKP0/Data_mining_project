{
 "metadata": {
  "language_info": {
   "codemirror_mode": {
    "name": "ipython",
    "version": 3
   },
   "file_extension": ".py",
   "mimetype": "text/x-python",
   "name": "python",
   "nbconvert_exporter": "python",
   "pygments_lexer": "ipython3",
   "version": "3.6.12"
  },
  "orig_nbformat": 2,
  "kernelspec": {
   "name": "python3612jvsc74a57bd0281325b046cf7b4fa435ee1268a56f7fad41fd38df347ee06af793bf124a9a9d",
   "display_name": "Python 3.6.12 64-bit ('datamine': conda)"
  }
 },
 "nbformat": 4,
 "nbformat_minor": 2,
 "cells": [
  {
   "cell_type": "code",
   "execution_count": 1,
   "metadata": {},
   "outputs": [],
   "source": [
    "import pandas as pd\n",
    "import matplotlib.pyplot as plt\n",
    "import numpy as np"
   ]
  },
  {
   "cell_type": "code",
   "execution_count": 2,
   "metadata": {},
   "outputs": [],
   "source": [
    "df = pd.read_csv('../material/od.csv')"
   ]
  },
  {
   "cell_type": "code",
   "execution_count": 3,
   "metadata": {},
   "outputs": [],
   "source": [
    "# convert origin_time and end_time to datatime object\n",
    "df['origin_time'] = pd.to_datetime(df['origin_time'])\n",
    "df['origin_time'] = df['origin_time'].apply(lambda x:x.replace(year=2013,month=10,day=22))\n",
    "df['end_time'] = pd.to_datetime(df['end_time'])\n",
    "df['end_time'] = df['end_time'].apply(lambda x:x.replace(year=2013,month=10,day=22))"
   ]
  },
  {
   "cell_type": "code",
   "execution_count": 5,
   "metadata": {},
   "outputs": [],
   "source": [
    "# calculate travel time\n",
    "df['travel_time'] = df['end_time']-df['origin_time']\n",
    "df['travel_time'] = df['travel_time'].dt.total_seconds().div(60).astype(float)\n",
    "# remove travel time = 0\n",
    "df = df[df['travel_time']>0]"
   ]
  },
  {
   "cell_type": "code",
   "execution_count": null,
   "metadata": {},
   "outputs": [],
   "source": [
    "plt.figure(figsize=(10,8))\n",
    "plt.bar()"
   ]
  }
 ]
}